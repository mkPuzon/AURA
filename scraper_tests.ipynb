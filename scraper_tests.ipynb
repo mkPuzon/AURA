{
 "cells": [
  {
   "cell_type": "markdown",
   "id": "843f1c76",
   "metadata": {},
   "source": [
    "How to use Python arXiv API\n",
    "\n",
    "Last updated: Sep 2025"
   ]
  },
  {
   "cell_type": "code",
   "execution_count": 2,
   "id": "1f47c816",
   "metadata": {},
   "outputs": [],
   "source": [
    "import time\n",
    "\n",
    "from utils import inspect_dictionary\n",
    "from scrapers import get_arxiv_records, get_keywords"
   ]
  },
  {
   "cell_type": "markdown",
   "id": "8ed1bd52",
   "metadata": {},
   "source": [
    "The arXiv API can be queried used an https request. The base query is of the form:\n",
    "\n",
    "http://export.arxiv.org/api/query\n",
    "\n",
    "To find papers on a certain subject, you'll use `search_query=all:` parameter. The all: prefix allows searching across all fields (title, author, abstract, comment, journal reference, subject category, report number). Note that spaces are not allowed in URLs, so they should be encoded with + signs.\n",
    "\n",
    "To get the most recent papers, you need to sort by date. The `sortBy=submittedDate` option sorts by the date the article was first submitted. For the most recent papers, the sort order should be `sortOrder=descending`. For the most popular papers use `sortBy=relevance`. This uses Lucene's default relevance search which orders results based on an internally \"computed relevance\" score (the system's best estimation of how well each document matches the query; can't currently find algorithmic details).\n",
    "\n",
    "Example query to get the 2 most recent papers related to \"artificial intelligence\":\n",
    "\n",
    "http://export.arxiv.org/api/query?search_query=all:artificial+intelligence&sortBy=submittedDate&sortOrder=descending&max_results=2"
   ]
  },
  {
   "cell_type": "code",
   "execution_count": 3,
   "id": "cc69f252",
   "metadata": {},
   "outputs": [
    {
     "name": "stdout",
     "output_type": "stream",
     "text": [
      "['large language models', 'data compliance', 'multilingual representation', 'open models', 'Goldfish objective']\n",
      "['text-to-image generation', 'exam benchmark', 'multidisciplinary', 'visual reasoning', 'artificial general intelligence']\n",
      "['generative artificial intelligence', 'data security', 'membership inference attacks', 'diffusion models', 'critically-damped higher-order Langevin dynamics']\n",
      "['language models', 'training order', 'linear encoding', 'temporal signal', 'knowledge modification']\n",
      "['Stochastic Optimization', 'Banach Spaces', 'Bregman Geometry', 'Machine Learning', 'Deep Learning']\n"
     ]
    }
   ],
   "source": [
    "records = get_arxiv_records(\"artificial intelligence\", sort_by=\"date\", max_results=5)\n",
    "for paper in records:\n",
    "    try:\n",
    "        keywords = get_keywords(abstract=records[paper][\"abstract\"])\n",
    "        time.sleep(3)\n",
    "        print(keywords)\n",
    "        records[paper][\"generated_keywords\"] = keywords\n",
    "    except:\n",
    "        print(f\"[ServerError] for paper {paper}: \")"
   ]
  },
  {
   "cell_type": "code",
   "execution_count": 4,
   "id": "f3b99bcb",
   "metadata": {},
   "outputs": [
    {
     "name": "stdout",
     "output_type": "stream",
     "text": [
      "['large language models', 'data compliance', 'multilingual representation', 'open models', 'Goldfish objective']\n",
      "['text-to-image generation', 'exam benchmark', 'multidisciplinary', 'visual reasoning', 'artificial general intelligence']\n",
      "['generative artificial intelligence', 'data security', 'membership inference attacks', 'diffusion models', 'critically-damped higher-order Langevin dynamics']\n",
      "['language models', 'training order', 'linear encoding', 'temporal signal', 'knowledge modification']\n",
      "['Stochastic Optimization', 'Banach Spaces', 'Bregman Geometry', 'Machine Learning', 'Deep Learning']\n"
     ]
    }
   ],
   "source": [
    "for entry in records:\n",
    "    print(records[entry].get(\"generated_keywords\"))"
   ]
  }
 ],
 "metadata": {
  "kernelspec": {
   "display_name": ".venv",
   "language": "python",
   "name": "python3"
  },
  "language_info": {
   "codemirror_mode": {
    "name": "ipython",
    "version": 3
   },
   "file_extension": ".py",
   "mimetype": "text/x-python",
   "name": "python",
   "nbconvert_exporter": "python",
   "pygments_lexer": "ipython3",
   "version": "3.12.10"
  }
 },
 "nbformat": 4,
 "nbformat_minor": 5
}
